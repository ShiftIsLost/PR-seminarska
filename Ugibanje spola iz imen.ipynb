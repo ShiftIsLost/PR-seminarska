{
 "cells": [
  {
   "cell_type": "code",
   "execution_count": 1,
   "id": "aa4bfaef",
   "metadata": {},
   "outputs": [],
   "source": [
    "from datetime import datetime\n",
    "import numpy as np\n",
    "import pandas as pd\n",
    "from collections import defaultdict\n",
    "import matplotlib.pyplot as plt"
   ]
  },
  {
   "cell_type": "code",
   "execution_count": 2,
   "id": "86e4685c",
   "metadata": {},
   "outputs": [],
   "source": [
    "dip = pd.read_csv('podatki/OpenscienceMetadata.csv',sep='|',encoding='utf_16', on_bad_lines='skip',low_memory=False)"
   ]
  },
  {
   "cell_type": "code",
   "execution_count": 3,
   "id": "e0827643",
   "metadata": {},
   "outputs": [
    {
     "data": {
      "text/html": [
       "<div>\n",
       "<style scoped>\n",
       "    .dataframe tbody tr th:only-of-type {\n",
       "        vertical-align: middle;\n",
       "    }\n",
       "\n",
       "    .dataframe tbody tr th {\n",
       "        vertical-align: top;\n",
       "    }\n",
       "\n",
       "    .dataframe thead th {\n",
       "        text-align: right;\n",
       "    }\n",
       "</style>\n",
       "<table border=\"1\" class=\"dataframe\">\n",
       "  <thead>\n",
       "    <tr style=\"text-align: right;\">\n",
       "      <th></th>\n",
       "      <th>ID</th>\n",
       "      <th>UDC</th>\n",
       "      <th>Typology</th>\n",
       "      <th>Language</th>\n",
       "      <th>Title</th>\n",
       "      <th>Subtitle</th>\n",
       "      <th>Abstract</th>\n",
       "      <th>Keywords</th>\n",
       "      <th>AlternativeLanguage</th>\n",
       "      <th>AlternativeTitle</th>\n",
       "      <th>AlternativeSubtitle</th>\n",
       "      <th>AlternativeAbstract</th>\n",
       "      <th>AlternativeKeywords</th>\n",
       "      <th>IssueYear</th>\n",
       "      <th>URL</th>\n",
       "      <th>OrganizationID_COBISS</th>\n",
       "      <th>OrganizationID_eVS</th>\n",
       "      <th>COBISSID</th>\n",
       "      <th>NRID</th>\n",
       "    </tr>\n",
       "  </thead>\n",
       "  <tbody>\n",
       "    <tr>\n",
       "      <th>0</th>\n",
       "      <td>499290</td>\n",
       "      <td>54:547.913(043.2)</td>\n",
       "      <td>2.11</td>\n",
       "      <td>slv</td>\n",
       "      <td>Mikrokapsuliranje eteričnih olj s koacervacijs...</td>\n",
       "      <td>diplomsko delo</td>\n",
       "      <td>Mikrokapsuliranje eteričnih olj s koacervacijs...</td>\n",
       "      <td>mikrokapsule;kompleksna koacervacija;želatina;...</td>\n",
       "      <td>eng</td>\n",
       "      <td>Microencapsulation of essential oils by coacer...</td>\n",
       "      <td>NaN</td>\n",
       "      <td>In the diploma work, a simplified procedure ha...</td>\n",
       "      <td>chemistry</td>\n",
       "      <td>2014.0</td>\n",
       "      <td>http://pefprints.pef.uni-lj.si/id/eprint/2403</td>\n",
       "      <td>3-117</td>\n",
       "      <td>74.0</td>\n",
       "      <td>10198601.0</td>\n",
       "      <td>8678266.0</td>\n",
       "    </tr>\n",
       "    <tr>\n",
       "      <th>1</th>\n",
       "      <td>499590</td>\n",
       "      <td>376:159.922.76-056.45(043.2)</td>\n",
       "      <td>2.11</td>\n",
       "      <td>slv</td>\n",
       "      <td>Strategije dela s socialno slabše prilagojenim...</td>\n",
       "      <td>diplomsko delo</td>\n",
       "      <td>Strategije dela s socialno slabše prilagojenim...</td>\n",
       "      <td>osnovna šola;socialna prilagojenost;osnovnošol...</td>\n",
       "      <td>eng</td>\n",
       "      <td>Strategies for working with socially disabled ...</td>\n",
       "      <td>NaN</td>\n",
       "      <td>My diploma thesis is focused on population of ...</td>\n",
       "      <td>gifted pupils</td>\n",
       "      <td>2014.0</td>\n",
       "      <td>http://pefprints.pef.uni-lj.si/id/eprint/2383</td>\n",
       "      <td>3-117</td>\n",
       "      <td>74.0</td>\n",
       "      <td>10181193.0</td>\n",
       "      <td>8678246.0</td>\n",
       "    </tr>\n",
       "    <tr>\n",
       "      <th>2</th>\n",
       "      <td>499594</td>\n",
       "      <td>316.454.7:792(043.2)</td>\n",
       "      <td>2.11</td>\n",
       "      <td>slv</td>\n",
       "      <td>Socialno-kulturna animacija kot metoda dela v ...</td>\n",
       "      <td>diplomsko delo</td>\n",
       "      <td>Socialno-kulturna animacija kot metoda dela v ...</td>\n",
       "      <td>socialna pedagogika;forum gledališče;animatorji;</td>\n",
       "      <td>eng</td>\n",
       "      <td>Socio-cultural animation as a method of work i...</td>\n",
       "      <td>NaN</td>\n",
       "      <td>The diploma work presents socio-cultural anima...</td>\n",
       "      <td>socio-cultural animation</td>\n",
       "      <td>2014.0</td>\n",
       "      <td>http://pefprints.pef.uni-lj.si/id/eprint/2173</td>\n",
       "      <td>3-117</td>\n",
       "      <td>74.0</td>\n",
       "      <td>10074441.0</td>\n",
       "      <td>8328046.0</td>\n",
       "    </tr>\n",
       "    <tr>\n",
       "      <th>3</th>\n",
       "      <td>499657</td>\n",
       "      <td>379.8:364.4-053.6(043.2)</td>\n",
       "      <td>2.11</td>\n",
       "      <td>slv</td>\n",
       "      <td>Potreba po mladinskem centru v občini Cerknica</td>\n",
       "      <td>diplomsko delo</td>\n",
       "      <td>Potreba po mladinskem centru v občini Cerknica</td>\n",
       "      <td>mladi;potrebe mladih;občina Cerknica;mladinski...</td>\n",
       "      <td>eng</td>\n",
       "      <td>The need for a youth center in the municipalit...</td>\n",
       "      <td>NaN</td>\n",
       "      <td>In the thesis I explore the need for a youth c...</td>\n",
       "      <td>youth center</td>\n",
       "      <td>2014.0</td>\n",
       "      <td>http://pefprints.pef.uni-lj.si/id/eprint/2363</td>\n",
       "      <td>3-117</td>\n",
       "      <td>74.0</td>\n",
       "      <td>10172745.0</td>\n",
       "      <td>8678228.0</td>\n",
       "    </tr>\n",
       "    <tr>\n",
       "      <th>4</th>\n",
       "      <td>499843</td>\n",
       "      <td>376:37.013.42(043.2)</td>\n",
       "      <td>2.11</td>\n",
       "      <td>slv</td>\n",
       "      <td>Analiza intervencij pri obravnavi otroka z odl...</td>\n",
       "      <td>diplomsko delo</td>\n",
       "      <td>Analiza intervencij pri obravnavi otroka z odl...</td>\n",
       "      <td>vedenjska problematika;dodatna strokovna pomoč...</td>\n",
       "      <td>eng</td>\n",
       "      <td>Analysis of intervention in the treatment of c...</td>\n",
       "      <td>NaN</td>\n",
       "      <td>According to the new concept of upbringing and...</td>\n",
       "      <td>school</td>\n",
       "      <td>2014.0</td>\n",
       "      <td>http://pefprints.pef.uni-lj.si/id/eprint/2432</td>\n",
       "      <td>3-117</td>\n",
       "      <td>74.0</td>\n",
       "      <td>10209353.0</td>\n",
       "      <td>8678291.0</td>\n",
       "    </tr>\n",
       "    <tr>\n",
       "      <th>...</th>\n",
       "      <td>...</td>\n",
       "      <td>...</td>\n",
       "      <td>...</td>\n",
       "      <td>...</td>\n",
       "      <td>...</td>\n",
       "      <td>...</td>\n",
       "      <td>...</td>\n",
       "      <td>...</td>\n",
       "      <td>...</td>\n",
       "      <td>...</td>\n",
       "      <td>...</td>\n",
       "      <td>...</td>\n",
       "      <td>...</td>\n",
       "      <td>...</td>\n",
       "      <td>...</td>\n",
       "      <td>...</td>\n",
       "      <td>...</td>\n",
       "      <td>...</td>\n",
       "      <td>...</td>\n",
       "    </tr>\n",
       "    <tr>\n",
       "      <th>131750</th>\n",
       "      <td>3827623</td>\n",
       "      <td>91:37</td>\n",
       "      <td>2.11</td>\n",
       "      <td>slv</td>\n",
       "      <td>Uvajanje in uporaba interaktivnih učnih gradiv...</td>\n",
       "      <td>diplomsko delo</td>\n",
       "      <td>Uvajanje in uporaba interaktivnih učnih gradiv...</td>\n",
       "      <td>diplomska dela;geografske diplome;šolska geogr...</td>\n",
       "      <td>eng</td>\n",
       "      <td>NaN</td>\n",
       "      <td>NaN</td>\n",
       "      <td>NaN</td>\n",
       "      <td>geographical education;textbooks;interactive t...</td>\n",
       "      <td>2016.0</td>\n",
       "      <td>https://repozitorij.uni-lj.si/IzpisGradiva.php...</td>\n",
       "      <td>3-114</td>\n",
       "      <td>71.0</td>\n",
       "      <td>61674594.0</td>\n",
       "      <td>9239290.0</td>\n",
       "    </tr>\n",
       "    <tr>\n",
       "      <th>131751</th>\n",
       "      <td>4151507</td>\n",
       "      <td>616-07</td>\n",
       "      <td>2.09</td>\n",
       "      <td>slv</td>\n",
       "      <td>Sistem za avtomatsko detekcijo artefaktov na m...</td>\n",
       "      <td>magistrsko delo</td>\n",
       "      <td>Uvod: Odkrivanje raznovrstnih artefaktov na sl...</td>\n",
       "      <td>magistrska dela;radiološka tehnologija;detekci...</td>\n",
       "      <td>eng</td>\n",
       "      <td>Automated artifact detection in uniform mammog...</td>\n",
       "      <td>NaN</td>\n",
       "      <td>Introduction: Detection of various artifacts i...</td>\n",
       "      <td>master's theses;radiologic technology;artifact...</td>\n",
       "      <td>2019.0</td>\n",
       "      <td>https://repozitorij.uni-lj.si/IzpisGradiva.php...</td>\n",
       "      <td>3-123</td>\n",
       "      <td>78.0</td>\n",
       "      <td>5698667.0</td>\n",
       "      <td>11233692.0</td>\n",
       "    </tr>\n",
       "    <tr>\n",
       "      <th>131752</th>\n",
       "      <td>4146096</td>\n",
       "      <td>616.31</td>\n",
       "      <td>2.11</td>\n",
       "      <td>slv</td>\n",
       "      <td>Korozijska odpornost titanovih vsadkov z nanos...</td>\n",
       "      <td>diplomsko delo</td>\n",
       "      <td>Uvod: Titan in njegove zlitine so trenutno naj...</td>\n",
       "      <td>diplomska dela;laboratorijska zobna protetika;...</td>\n",
       "      <td>eng</td>\n",
       "      <td>Corrosion resistance of titanium implants with...</td>\n",
       "      <td>NaN</td>\n",
       "      <td>Introduction: Titanium and its alloys are curr...</td>\n",
       "      <td>diploma theses;laboratory dental prosthetics;t...</td>\n",
       "      <td>2019.0</td>\n",
       "      <td>https://repozitorij.uni-lj.si/IzpisGradiva.php...</td>\n",
       "      <td>3-123</td>\n",
       "      <td>78.0</td>\n",
       "      <td>5697643.0</td>\n",
       "      <td>11232995.0</td>\n",
       "    </tr>\n",
       "    <tr>\n",
       "      <th>131753</th>\n",
       "      <td>4148976</td>\n",
       "      <td>615.8</td>\n",
       "      <td>2.11</td>\n",
       "      <td>slv</td>\n",
       "      <td>Merske lastnosti testa devetih zatičev pri pac...</td>\n",
       "      <td>diplomsko delo</td>\n",
       "      <td>Uvod: Pri pacientih z multiplo sklerozo in pac...</td>\n",
       "      <td>diplomska dela;fizioterapija;test devetih zati...</td>\n",
       "      <td>eng</td>\n",
       "      <td>Measurement properties of nine hole peg test i...</td>\n",
       "      <td>NaN</td>\n",
       "      <td>Introduction: In patients with multiple sclero...</td>\n",
       "      <td>diploma theses;physiotherapy;nine hole peg tes...</td>\n",
       "      <td>2019.0</td>\n",
       "      <td>https://repozitorij.uni-lj.si/IzpisGradiva.php...</td>\n",
       "      <td>3-123</td>\n",
       "      <td>78.0</td>\n",
       "      <td>5654379.0</td>\n",
       "      <td>11188272.0</td>\n",
       "    </tr>\n",
       "    <tr>\n",
       "      <th>131754</th>\n",
       "      <td>4149025</td>\n",
       "      <td>616-083</td>\n",
       "      <td>2.11</td>\n",
       "      <td>slv</td>\n",
       "      <td>Izobraževalni programi za preprečevanje in obv...</td>\n",
       "      <td>diplomsko delo</td>\n",
       "      <td>Uvod: Izobraževalni programi za preprečevanje ...</td>\n",
       "      <td>diplomska dela;zdravstvena nega;agresivno vede...</td>\n",
       "      <td>eng</td>\n",
       "      <td>Training courses for prevention and management...</td>\n",
       "      <td>NaN</td>\n",
       "      <td>Introduction: Training courses for prevention ...</td>\n",
       "      <td>diploma theses;nursing care;aggressive behavio...</td>\n",
       "      <td>2019.0</td>\n",
       "      <td>https://repozitorij.uni-lj.si/IzpisGradiva.php...</td>\n",
       "      <td>3-123</td>\n",
       "      <td>78.0</td>\n",
       "      <td>5636459.0</td>\n",
       "      <td>11155041.0</td>\n",
       "    </tr>\n",
       "  </tbody>\n",
       "</table>\n",
       "<p>131755 rows × 19 columns</p>\n",
       "</div>"
      ],
      "text/plain": [
       "             ID                           UDC Typology Language  \\\n",
       "0        499290             54:547.913(043.2)     2.11      slv   \n",
       "1        499590  376:159.922.76-056.45(043.2)     2.11      slv   \n",
       "2        499594          316.454.7:792(043.2)     2.11      slv   \n",
       "3        499657      379.8:364.4-053.6(043.2)     2.11      slv   \n",
       "4        499843          376:37.013.42(043.2)     2.11      slv   \n",
       "...         ...                           ...      ...      ...   \n",
       "131750  3827623                         91:37     2.11      slv   \n",
       "131751  4151507                        616-07     2.09      slv   \n",
       "131752  4146096                        616.31     2.11      slv   \n",
       "131753  4148976                         615.8     2.11      slv   \n",
       "131754  4149025                       616-083     2.11      slv   \n",
       "\n",
       "                                                    Title         Subtitle  \\\n",
       "0       Mikrokapsuliranje eteričnih olj s koacervacijs...   diplomsko delo   \n",
       "1       Strategije dela s socialno slabše prilagojenim...   diplomsko delo   \n",
       "2       Socialno-kulturna animacija kot metoda dela v ...   diplomsko delo   \n",
       "3          Potreba po mladinskem centru v občini Cerknica   diplomsko delo   \n",
       "4       Analiza intervencij pri obravnavi otroka z odl...   diplomsko delo   \n",
       "...                                                   ...              ...   \n",
       "131750  Uvajanje in uporaba interaktivnih učnih gradiv...   diplomsko delo   \n",
       "131751  Sistem za avtomatsko detekcijo artefaktov na m...  magistrsko delo   \n",
       "131752  Korozijska odpornost titanovih vsadkov z nanos...   diplomsko delo   \n",
       "131753  Merske lastnosti testa devetih zatičev pri pac...   diplomsko delo   \n",
       "131754  Izobraževalni programi za preprečevanje in obv...   diplomsko delo   \n",
       "\n",
       "                                                 Abstract  \\\n",
       "0       Mikrokapsuliranje eteričnih olj s koacervacijs...   \n",
       "1       Strategije dela s socialno slabše prilagojenim...   \n",
       "2       Socialno-kulturna animacija kot metoda dela v ...   \n",
       "3          Potreba po mladinskem centru v občini Cerknica   \n",
       "4       Analiza intervencij pri obravnavi otroka z odl...   \n",
       "...                                                   ...   \n",
       "131750  Uvajanje in uporaba interaktivnih učnih gradiv...   \n",
       "131751  Uvod: Odkrivanje raznovrstnih artefaktov na sl...   \n",
       "131752  Uvod: Titan in njegove zlitine so trenutno naj...   \n",
       "131753  Uvod: Pri pacientih z multiplo sklerozo in pac...   \n",
       "131754  Uvod: Izobraževalni programi za preprečevanje ...   \n",
       "\n",
       "                                                 Keywords AlternativeLanguage  \\\n",
       "0       mikrokapsule;kompleksna koacervacija;želatina;...                 eng   \n",
       "1       osnovna šola;socialna prilagojenost;osnovnošol...                 eng   \n",
       "2        socialna pedagogika;forum gledališče;animatorji;                 eng   \n",
       "3       mladi;potrebe mladih;občina Cerknica;mladinski...                 eng   \n",
       "4       vedenjska problematika;dodatna strokovna pomoč...                 eng   \n",
       "...                                                   ...                 ...   \n",
       "131750  diplomska dela;geografske diplome;šolska geogr...                 eng   \n",
       "131751  magistrska dela;radiološka tehnologija;detekci...                 eng   \n",
       "131752  diplomska dela;laboratorijska zobna protetika;...                 eng   \n",
       "131753  diplomska dela;fizioterapija;test devetih zati...                 eng   \n",
       "131754  diplomska dela;zdravstvena nega;agresivno vede...                 eng   \n",
       "\n",
       "                                         AlternativeTitle AlternativeSubtitle  \\\n",
       "0       Microencapsulation of essential oils by coacer...                 NaN   \n",
       "1       Strategies for working with socially disabled ...                 NaN   \n",
       "2       Socio-cultural animation as a method of work i...                 NaN   \n",
       "3       The need for a youth center in the municipalit...                 NaN   \n",
       "4       Analysis of intervention in the treatment of c...                 NaN   \n",
       "...                                                   ...                 ...   \n",
       "131750                                                NaN                 NaN   \n",
       "131751  Automated artifact detection in uniform mammog...                 NaN   \n",
       "131752  Corrosion resistance of titanium implants with...                 NaN   \n",
       "131753  Measurement properties of nine hole peg test i...                 NaN   \n",
       "131754  Training courses for prevention and management...                 NaN   \n",
       "\n",
       "                                      AlternativeAbstract  \\\n",
       "0       In the diploma work, a simplified procedure ha...   \n",
       "1       My diploma thesis is focused on population of ...   \n",
       "2       The diploma work presents socio-cultural anima...   \n",
       "3       In the thesis I explore the need for a youth c...   \n",
       "4       According to the new concept of upbringing and...   \n",
       "...                                                   ...   \n",
       "131750                                                NaN   \n",
       "131751  Introduction: Detection of various artifacts i...   \n",
       "131752  Introduction: Titanium and its alloys are curr...   \n",
       "131753  Introduction: In patients with multiple sclero...   \n",
       "131754  Introduction: Training courses for prevention ...   \n",
       "\n",
       "                                      AlternativeKeywords  IssueYear  \\\n",
       "0                                               chemistry     2014.0   \n",
       "1                                           gifted pupils     2014.0   \n",
       "2                                socio-cultural animation     2014.0   \n",
       "3                                            youth center     2014.0   \n",
       "4                                                  school     2014.0   \n",
       "...                                                   ...        ...   \n",
       "131750  geographical education;textbooks;interactive t...     2016.0   \n",
       "131751  master's theses;radiologic technology;artifact...     2019.0   \n",
       "131752  diploma theses;laboratory dental prosthetics;t...     2019.0   \n",
       "131753  diploma theses;physiotherapy;nine hole peg tes...     2019.0   \n",
       "131754  diploma theses;nursing care;aggressive behavio...     2019.0   \n",
       "\n",
       "                                                      URL  \\\n",
       "0           http://pefprints.pef.uni-lj.si/id/eprint/2403   \n",
       "1           http://pefprints.pef.uni-lj.si/id/eprint/2383   \n",
       "2           http://pefprints.pef.uni-lj.si/id/eprint/2173   \n",
       "3           http://pefprints.pef.uni-lj.si/id/eprint/2363   \n",
       "4           http://pefprints.pef.uni-lj.si/id/eprint/2432   \n",
       "...                                                   ...   \n",
       "131750  https://repozitorij.uni-lj.si/IzpisGradiva.php...   \n",
       "131751  https://repozitorij.uni-lj.si/IzpisGradiva.php...   \n",
       "131752  https://repozitorij.uni-lj.si/IzpisGradiva.php...   \n",
       "131753  https://repozitorij.uni-lj.si/IzpisGradiva.php...   \n",
       "131754  https://repozitorij.uni-lj.si/IzpisGradiva.php...   \n",
       "\n",
       "       OrganizationID_COBISS  OrganizationID_eVS    COBISSID        NRID  \n",
       "0                      3-117                74.0  10198601.0   8678266.0  \n",
       "1                      3-117                74.0  10181193.0   8678246.0  \n",
       "2                      3-117                74.0  10074441.0   8328046.0  \n",
       "3                      3-117                74.0  10172745.0   8678228.0  \n",
       "4                      3-117                74.0  10209353.0   8678291.0  \n",
       "...                      ...                 ...         ...         ...  \n",
       "131750                 3-114                71.0  61674594.0   9239290.0  \n",
       "131751                 3-123                78.0   5698667.0  11233692.0  \n",
       "131752                 3-123                78.0   5697643.0  11232995.0  \n",
       "131753                 3-123                78.0   5654379.0  11188272.0  \n",
       "131754                 3-123                78.0   5636459.0  11155041.0  \n",
       "\n",
       "[131755 rows x 19 columns]"
      ]
     },
     "execution_count": 3,
     "metadata": {},
     "output_type": "execute_result"
    }
   ],
   "source": [
    "dip"
   ]
  },
  {
   "cell_type": "code",
   "execution_count": 4,
   "id": "8930be80",
   "metadata": {},
   "outputs": [],
   "source": [
    "aut = pd.read_csv('podatki/OpenScienceMetadataAuthors.csv',sep='|',encoding='utf_16', on_bad_lines='warn',low_memory=False)\n",
    "aut1 = aut.set_index('Name')"
   ]
  },
  {
   "cell_type": "code",
   "execution_count": 5,
   "id": "a79fdadb",
   "metadata": {},
   "outputs": [
    {
     "name": "stdout",
     "output_type": "stream",
     "text": [
      "MetadataID    1189509\n",
      "AuthorID       788909\n",
      "Surname        Ljubić\n"
     ]
    }
   ],
   "source": [
    "aut1\n",
    "print(aut1.loc['Anamarina'].to_string())"
   ]
  },
  {
   "cell_type": "code",
   "execution_count": 6,
   "id": "573b16ef",
   "metadata": {},
   "outputs": [],
   "source": [
    "#https://archive.ics.uci.edu/ml/datasets/Gender+by+Name\n",
    "#dataset globalnih imen\n",
    "name = pd.read_csv('podatki/name_gender_dataset.csv',sep=',',encoding='utf_8_sig', on_bad_lines='warn',low_memory=False).drop(['Probability'], axis = 1)\n",
    "name = name.drop_duplicates(subset=['Name'],keep='first')#ime ki ima vec pojavitev pri dolocenem spolu ostane\n",
    "name = name.set_index('Name')"
   ]
  },
  {
   "cell_type": "code",
   "execution_count": 7,
   "id": "f37d6daa",
   "metadata": {},
   "outputs": [],
   "source": [
    "#dataset slovenskih imen iz \n",
    "m = pd.read_csv('podatki/moska_imena.csv',sep=' ',encoding='cp1250')# https://pxweb.stat.si/SiStatData/pxweb/sl/Data/Data/05X1005S.px/\n",
    "z = pd.read_csv('podatki/zenska_imena.csv',sep=' ',encoding='cp1250')# https://pxweb.stat.si/SiStatData/pxweb/sl/Data/Data/05X1010S.px/"
   ]
  },
  {
   "cell_type": "code",
   "execution_count": 8,
   "id": "40cfaf52",
   "metadata": {},
   "outputs": [
    {
     "data": {
      "text/plain": [
       "Gender    F\n",
       "Count     2\n",
       "Name: A, dtype: object"
      ]
     },
     "execution_count": 8,
     "metadata": {},
     "output_type": "execute_result"
    }
   ],
   "source": [
    "name.loc['A']"
   ]
  },
  {
   "cell_type": "markdown",
   "id": "7dd3412b",
   "metadata": {},
   "source": [
    "## SLO + en name dataset"
   ]
  },
  {
   "cell_type": "code",
   "execution_count": 9,
   "id": "57cbeabc",
   "metadata": {},
   "outputs": [],
   "source": [
    "mos = m.IME.values\n",
    "zen = z.IME.values\n",
    "glob = name.index.values\n",
    "imena = aut.groupby('Name').count().drop(['MetadataID','AuthorID'], axis = 1).rename(columns={\"Surname\":\"Spol\"})\n",
    "for index, row in imena.iterrows():\n",
    "    ime = index.replace('-',' ').strip().split(' ')\n",
    "    if ime[0] in mos:\n",
    "        imena.at[index,'Spol'] = 'M'\n",
    "    elif ime[0] in zen:\n",
    "        imena.at[index,'Spol'] = 'F'\n",
    "    else:\n",
    "        if ime[0] in glob:\n",
    "            imena.at[index,'Spol'] = name.loc[ime[0],\"Gender\"]\n",
    "        else:\n",
    "            imena.at[index,'Spol'] = 'O'"
   ]
  },
  {
   "cell_type": "code",
   "execution_count": 10,
   "id": "09b76b15",
   "metadata": {},
   "outputs": [
    {
     "data": {
      "text/html": [
       "<div>\n",
       "<style scoped>\n",
       "    .dataframe tbody tr th:only-of-type {\n",
       "        vertical-align: middle;\n",
       "    }\n",
       "\n",
       "    .dataframe tbody tr th {\n",
       "        vertical-align: top;\n",
       "    }\n",
       "\n",
       "    .dataframe thead th {\n",
       "        text-align: right;\n",
       "    }\n",
       "</style>\n",
       "<table border=\"1\" class=\"dataframe\">\n",
       "  <thead>\n",
       "    <tr style=\"text-align: right;\">\n",
       "      <th></th>\n",
       "      <th>count</th>\n",
       "    </tr>\n",
       "    <tr>\n",
       "      <th>Spol</th>\n",
       "      <th></th>\n",
       "    </tr>\n",
       "  </thead>\n",
       "  <tbody>\n",
       "    <tr>\n",
       "      <th>F</th>\n",
       "      <td>2924</td>\n",
       "    </tr>\n",
       "    <tr>\n",
       "      <th>M</th>\n",
       "      <td>3658</td>\n",
       "    </tr>\n",
       "    <tr>\n",
       "      <th>O</th>\n",
       "      <td>1482</td>\n",
       "    </tr>\n",
       "  </tbody>\n",
       "</table>\n",
       "</div>"
      ],
      "text/plain": [
       "      count\n",
       "Spol       \n",
       "F      2924\n",
       "M      3658\n",
       "O      1482"
      ]
     },
     "execution_count": 10,
     "metadata": {},
     "output_type": "execute_result"
    }
   ],
   "source": [
    "imena\n",
    "imena.assign(count=0).groupby('Spol').count()\n",
    "#imena.to_csv('podatki/imena.csv')"
   ]
  },
  {
   "cell_type": "markdown",
   "id": "26442476",
   "metadata": {},
   "source": [
    "## Facebook leak"
   ]
  },
  {
   "cell_type": "code",
   "execution_count": 11,
   "id": "dc7cd8d1",
   "metadata": {},
   "outputs": [],
   "source": [
    "from names_dataset import NameDataset\n",
    "nd = NameDataset()# knjižnica podatkov ki je grajena na podlagi facebook leak-a"
   ]
  },
  {
   "cell_type": "code",
   "execution_count": 12,
   "id": "84870244",
   "metadata": {},
   "outputs": [
    {
     "name": "stdout",
     "output_type": "stream",
     "text": [
      "{'first_name': {'country': {'Algeria': 0.036, 'Egypt': 0.313, 'Israel': 0.019, 'Jordan': 0.03, 'Lebanon': 0.027, 'Morocco': 0.293, 'Palestine, State of': 0.023, 'Saudi Arabia': 0.097, 'Syrian Arab Republic': 0.049, 'Tunisia': 0.113}, 'gender': {'Female': 0.924, 'Male': 0.076}, 'rank': {'Algeria': 245, 'Egypt': 104, 'Israel': 143, 'Jordan': 47, 'Lebanon': 26, 'Morocco': 49, 'Palestine, State of': 42, 'Saudi Arabia': 153, 'Syrian Arab Republic': 84, 'Tunisia': 28}}, 'last_name': {'country': {'Algeria': 0.108, 'Egypt': 0.106, 'France': 0.014, 'Iraq': 0.014, 'Italy': 0.015, 'Morocco': 0.503, 'Malaysia': 0.017, 'Saudi Arabia': 0.057, 'Syrian Arab Republic': 0.021, 'Tunisia': 0.146}, 'gender': {}, 'rank': {'Algeria': 336, 'Egypt': 1814, 'France': 6083, 'Iraq': 3934, 'Italy': 13786, 'Morocco': 59, 'Malaysia': 2717, 'Saudi Arabia': 1891, 'Syrian Arab Republic': 1373, 'Tunisia': 136}}}\n"
     ]
    }
   ],
   "source": [
    "print(nd.search(\"Amal\"))"
   ]
  },
  {
   "cell_type": "code",
   "execution_count": 13,
   "id": "c1f1350d",
   "metadata": {},
   "outputs": [],
   "source": [
    "imena1 = aut.groupby('Name').count().drop(['MetadataID','AuthorID'], axis = 1).rename(columns={\"Surname\":\"Spol\"})\n",
    "for index, row in imena.iterrows():\n",
    "    ime = index.replace('-',' ').strip().split(' ')\n",
    "    i = nd.search(ime[0])\n",
    "    if i['first_name'] != None:\n",
    "        if \"Male\" in i['first_name']['gender'] and i['first_name']['gender']['Male']>0.5:\n",
    "            imena1.at[index,'Spol'] = 'M'\n",
    "        else:\n",
    "            imena1.at[index,'Spol'] = 'F'\n",
    "    else:\n",
    "        imena1.at[index,'Spol'] = 'O'"
   ]
  },
  {
   "cell_type": "code",
   "execution_count": 14,
   "id": "4ac5abc7",
   "metadata": {},
   "outputs": [
    {
     "data": {
      "text/html": [
       "<div>\n",
       "<style scoped>\n",
       "    .dataframe tbody tr th:only-of-type {\n",
       "        vertical-align: middle;\n",
       "    }\n",
       "\n",
       "    .dataframe tbody tr th {\n",
       "        vertical-align: top;\n",
       "    }\n",
       "\n",
       "    .dataframe thead th {\n",
       "        text-align: right;\n",
       "    }\n",
       "</style>\n",
       "<table border=\"1\" class=\"dataframe\">\n",
       "  <thead>\n",
       "    <tr style=\"text-align: right;\">\n",
       "      <th></th>\n",
       "      <th>count</th>\n",
       "    </tr>\n",
       "    <tr>\n",
       "      <th>Spol</th>\n",
       "      <th></th>\n",
       "    </tr>\n",
       "  </thead>\n",
       "  <tbody>\n",
       "    <tr>\n",
       "      <th>F</th>\n",
       "      <td>3246</td>\n",
       "    </tr>\n",
       "    <tr>\n",
       "      <th>M</th>\n",
       "      <td>4117</td>\n",
       "    </tr>\n",
       "    <tr>\n",
       "      <th>O</th>\n",
       "      <td>701</td>\n",
       "    </tr>\n",
       "  </tbody>\n",
       "</table>\n",
       "</div>"
      ],
      "text/plain": [
       "      count\n",
       "Spol       \n",
       "F      3246\n",
       "M      4117\n",
       "O       701"
      ]
     },
     "execution_count": 14,
     "metadata": {},
     "output_type": "execute_result"
    }
   ],
   "source": [
    "imena1\n",
    "imena1.assign(count=0).groupby('Spol').count()\n",
    "#imena1.to_csv('podatki/imena1.csv')"
   ]
  },
  {
   "cell_type": "markdown",
   "id": "ab2bf87b",
   "metadata": {},
   "source": [
    "## Facebook + SLO +en dataset"
   ]
  },
  {
   "cell_type": "code",
   "execution_count": 15,
   "id": "509c9210",
   "metadata": {},
   "outputs": [],
   "source": [
    "imena2 = aut.groupby('Name').count().drop(['MetadataID','AuthorID'], axis = 1).rename(columns={\"Surname\":\"Spol\"})\n",
    "for index, row in imena.iterrows():\n",
    "    ime = index.replace('-',' ').strip().split(' ')\n",
    "    i = nd.search(ime[0])\n",
    "    if i['first_name'] != None:\n",
    "        if \"Male\" in i['first_name']['gender'] and i['first_name']['gender']['Male']>0.5:\n",
    "            imena2.at[index,'Spol'] = 'M'\n",
    "        else:\n",
    "            imena2.at[index,'Spol'] = 'F'\n",
    "    else:\n",
    "        if ime[0] in mos:\n",
    "            imena2.at[index,'Spol'] = 'M'\n",
    "        elif ime[0] in zen:\n",
    "            imena2.at[index,'Spol'] = 'F'\n",
    "        else:\n",
    "            if ime[0] in glob:\n",
    "                imena2.at[index,'Spol'] = name.loc[ime[0],\"Gender\"]\n",
    "            else:\n",
    "                imena2.at[index,'Spol'] = 'O'"
   ]
  },
  {
   "cell_type": "code",
   "execution_count": 16,
   "id": "f621b80c",
   "metadata": {},
   "outputs": [
    {
     "data": {
      "text/html": [
       "<div>\n",
       "<style scoped>\n",
       "    .dataframe tbody tr th:only-of-type {\n",
       "        vertical-align: middle;\n",
       "    }\n",
       "\n",
       "    .dataframe tbody tr th {\n",
       "        vertical-align: top;\n",
       "    }\n",
       "\n",
       "    .dataframe thead th {\n",
       "        text-align: right;\n",
       "    }\n",
       "</style>\n",
       "<table border=\"1\" class=\"dataframe\">\n",
       "  <thead>\n",
       "    <tr style=\"text-align: right;\">\n",
       "      <th></th>\n",
       "      <th>count</th>\n",
       "    </tr>\n",
       "    <tr>\n",
       "      <th>Spol</th>\n",
       "      <th></th>\n",
       "    </tr>\n",
       "  </thead>\n",
       "  <tbody>\n",
       "    <tr>\n",
       "      <th>F</th>\n",
       "      <td>3321</td>\n",
       "    </tr>\n",
       "    <tr>\n",
       "      <th>M</th>\n",
       "      <td>4230</td>\n",
       "    </tr>\n",
       "    <tr>\n",
       "      <th>O</th>\n",
       "      <td>513</td>\n",
       "    </tr>\n",
       "  </tbody>\n",
       "</table>\n",
       "</div>"
      ],
      "text/plain": [
       "      count\n",
       "Spol       \n",
       "F      3321\n",
       "M      4230\n",
       "O       513"
      ]
     },
     "execution_count": 16,
     "metadata": {},
     "output_type": "execute_result"
    }
   ],
   "source": [
    "imena2\n",
    "imena2.assign(count=0).groupby('Spol').count()\n",
    "#imena2.to_csv('podatki/imena2.csv')"
   ]
  },
  {
   "cell_type": "markdown",
   "id": "6fd12129",
   "metadata": {},
   "source": [
    "## Povezava avtorja z deli"
   ]
  },
  {
   "cell_type": "code",
   "execution_count": 17,
   "id": "bb8120f0",
   "metadata": {},
   "outputs": [],
   "source": [
    "#avtorjem dodelimo spol\n",
    "def gender(x):\n",
    "    return imena2.loc[x]\n",
    "aut.assign(Name='n')\n",
    "aut=aut.dropna(subset=['Name'])\n",
    "aut['Gender'] = aut['Name'].apply(gender)"
   ]
  },
  {
   "cell_type": "code",
   "execution_count": 18,
   "id": "5dd491a6",
   "metadata": {},
   "outputs": [],
   "source": [
    "#id del je string in ga je treba pretvoriti v int\n",
    "dip = dip[dip.ID.apply(lambda x: x.isnumeric())]#odstranimo vsa ne numerične id\n",
    "dip = dip.astype({\"ID\": int}).sort_values(\"ID\")#pretvorimo stolpec v int"
   ]
  },
  {
   "cell_type": "code",
   "execution_count": 19,
   "id": "0c78bd18",
   "metadata": {},
   "outputs": [],
   "source": [
    "skup = aut.set_index('MetadataID').join(dip.set_index('ID'), how='inner')#združimo imena z deli"
   ]
  },
  {
   "cell_type": "code",
   "execution_count": 20,
   "id": "7407ecf2",
   "metadata": {},
   "outputs": [],
   "source": [
    "M = defaultdict(int)\n",
    "F = defaultdict(int)\n",
    "O = defaultdict(int)\n",
    "spo = {\"M\":M,\"F\":F,\"O\":O}"
   ]
  },
  {
   "cell_type": "code",
   "execution_count": 21,
   "id": "61c1be1f",
   "metadata": {},
   "outputs": [],
   "source": [
    "#prešteješ ključne besede glede in jih vstavis glede na spol\n",
    "for index, row in skup.iterrows():\n",
    "    for word in row[\"Keywords\"].split(\";\"):\n",
    "        spo[row[\"Gender\"]][word] += 1"
   ]
  },
  {
   "cell_type": "code",
   "execution_count": 22,
   "id": "b14098c0",
   "metadata": {},
   "outputs": [],
   "source": [
    "#iračunaš pripadnost določene besede spolu v % in skupno število pojavitev\n",
    "raz1 = dict()\n",
    "\n",
    "for mo, m in spo['M'].copy().items():\n",
    "    raz1[mo] = (m/(m + spo['F'][mo]), spo['F'][mo]/(m + spo['F'][mo]), (m + spo['F'][mo])) #(M,F, m+f pojavitve)\n",
    "    \n",
    "for wo, w in spo['F'].copy().items():\n",
    "    raz1[wo] = (spo['M'][wo]/(w + spo['M'][wo]), w/(w + spo['M'][wo]), (w + spo['M'][wo])) #(M,F, m+f pojavitve)\n",
    "    "
   ]
  },
  {
   "cell_type": "code",
   "execution_count": 23,
   "id": "8d47a675",
   "metadata": {},
   "outputs": [],
   "source": [
    "#izbrisi vse ki imajo skupaj manj kot 200 pojavitev\n",
    "raz = dict()\n",
    "for key, value in raz1.items():\n",
    "    if value[2] > 200:\n",
    "        raz[key] = value\n"
   ]
  },
  {
   "cell_type": "code",
   "execution_count": 24,
   "id": "3373a946",
   "metadata": {},
   "outputs": [],
   "source": [
    "#odstranimo splosne kljucne besede\n",
    "bes = ['','diplomske naloge','diplomska dela','magistrska dela','magistrske naloge','Diplomske naloge','Diplomska dela',\n",
    "       'UNI','diplomska naloga',\"VSŠ\"]\n",
    "for b in bes:\n",
    "    raz.pop(b)\n",
    "    raz1.pop(b)"
   ]
  },
  {
   "cell_type": "code",
   "execution_count": 25,
   "id": "b2dd2a1b",
   "metadata": {},
   "outputs": [],
   "source": [
    "male = dict()\n",
    "fem = dict()\n",
    "top = dict()\n",
    "#male\n",
    "malek = sorted(raz, key=raz.get, reverse=True)#uredi ključe tako da so ključne besede z moško priljubljenost odspredaj\n",
    "for w in malek:\n",
    "    male[w] = raz[w]\n",
    "#female\n",
    "femk = sorted(raz,key=lambda x:raz.get(x)[1:] , reverse=True)#ženske odspredaj\n",
    "for w in femk:\n",
    "    fem[w] = raz[w]\n",
    "#top \n",
    "topk = sorted(raz,key=lambda x:raz.get(x)[-1] , reverse=True)#največkrat pojavljene ključe besede odspredaj\n",
    "for w in topk:\n",
    "    top[w] = raz[w]    "
   ]
  },
  {
   "cell_type": "code",
   "execution_count": 26,
   "id": "974c5ed0",
   "metadata": {},
   "outputs": [
    {
     "data": {
      "image/png": "[encoded data removed]",
      "text/plain": [
       "<Figure size 432x288 with 1 Axes>"
      ]
     },
     "metadata": {
      "needs_background": "light"
     },
     "output_type": "display_data"
    }
   ],
   "source": [
    "x = femk[:20]\n",
    "y0 = [raz1[a][0]*raz1[a][2] for a in x]\n",
    "y1 = [raz1[a][1]*raz1[a][2] for a in x]\n",
    "y2 = [raz1[a][2] for a in x]\n",
    "\n",
    "ind = np.arange(len(x))\n",
    "width = 0.50\n",
    "fig = plt.figure()\n",
    "ax = fig.add_axes([0,0,1,1])\n",
    "ax.barh(ind, y0, width, color='b')\n",
    "ax.barh(ind, y1, width,left=y0, color='r')\n",
    "\n",
    "ax.set_xlabel('Število pojavitev ključnih besed')\n",
    "ax.set_title('20 ključnih besed z največjim razmerjem ženskih avtoric nad 200 pojavitev')\n",
    "ax.set_yticks(ind, x)\n",
    "\n",
    "ax.legend(labels=['Moški', 'Ženske'])\n",
    "plt.show()"
   ]
  },
  {
   "cell_type": "code",
   "execution_count": 27,
   "id": "0d56fb7c",
   "metadata": {},
   "outputs": [
    {
     "data": {
      "image/png": "[encoded data removed]",
      "text/plain": [
       "<Figure size 432x288 with 1 Axes>"
      ]
     },
     "metadata": {
      "needs_background": "light"
     },
     "output_type": "display_data"
    }
   ],
   "source": [
    "x = malek[:20]\n",
    "y0 = [raz1[a][0]*raz1[a][2] for a in x]\n",
    "y1 = [raz1[a][1]*raz1[a][2] for a in x]\n",
    "y2 = [raz1[a][2] for a in x]\n",
    "\n",
    "ind = np.arange(len(x))\n",
    "width = 0.50\n",
    "fig = plt.figure()\n",
    "ax = fig.add_axes([0,0,1,1])\n",
    "ax.barh(ind, y0, width, color='b')\n",
    "ax.barh(ind, y1, width,left=y0, color='r')\n",
    "\n",
    "ax.set_xlabel('Število pojavitev ključnih besed')\n",
    "ax.set_title('20 ključnih besed z največjim razmerjem moških avtorjev nad 200 pojavitev')\n",
    "ax.set_yticks(ind, x)\n",
    "\n",
    "ax.legend(labels=['Moški', 'Ženske'])\n",
    "plt.show()"
   ]
  },
  {
   "cell_type": "code",
   "execution_count": 28,
   "id": "1ac4c9f2",
   "metadata": {},
   "outputs": [
    {
     "data": {
      "image/png": "[encoded data removed]",
      "text/plain": [
       "<Figure size 432x288 with 1 Axes>"
      ]
     },
     "metadata": {
      "needs_background": "light"
     },
     "output_type": "display_data"
    }
   ],
   "source": [
    "x = topk[:20]\n",
    "y0 = [raz1[a][0]*raz1[a][2] for a in x]\n",
    "y1 = [raz1[a][1]*raz1[a][2] for a in x]\n",
    "y2 = [raz1[a][2] for a in x]\n",
    "\n",
    "ind = np.arange(len(x))\n",
    "width = 0.50\n",
    "fig = plt.figure()\n",
    "ax = fig.add_axes([0,0,1,1])\n",
    "ax.barh(ind, y0, width, color='b')\n",
    "ax.barh(ind, y1, width,left=y0, color='r')\n",
    "\n",
    "ax.set_xlabel('Število pojavitev ključnih besed')\n",
    "ax.set_title('20 najbolj pogostih ključnih besed')\n",
    "ax.set_yticks(ind, x)\n",
    "\n",
    "ax.legend(labels=['Moški', 'Ženske'])\n",
    "plt.show()"
   ]
  },
  {
   "cell_type": "code",
   "execution_count": 29,
   "id": "1cca177e",
   "metadata": {},
   "outputs": [],
   "source": [
    "#male\n",
    "omk = sorted(raz1, key=raz1.get, reverse=True)\n",
    "\n",
    "#female\n",
    "ofk = sorted(raz1,key=lambda x:raz1.get(x)[1:] , reverse=True)"
   ]
  },
  {
   "cell_type": "code",
   "execution_count": 30,
   "id": "e894b54c",
   "metadata": {},
   "outputs": [
    {
     "data": {
      "image/png": "[encoded data removed]",
      "text/plain": [
       "<Figure size 432x288 with 1 Axes>"
      ]
     },
     "metadata": {
      "needs_background": "light"
     },
     "output_type": "display_data"
    }
   ],
   "source": [
    "x = ofk[:20]\n",
    "y0 = [raz1[a][0]*raz1[a][2] for a in x]\n",
    "y1 = [raz1[a][1]*raz1[a][2] for a in x]\n",
    "y2 = [raz1[a][2] for a in x]\n",
    "\n",
    "ind = np.arange(len(x))\n",
    "width = 0.50\n",
    "fig = plt.figure()\n",
    "ax = fig.add_axes([0,0,1,1])\n",
    "ax.barh(ind, y0, width, color='b')\n",
    "ax.barh(ind, y1, width,left=y0, color='r')\n",
    "\n",
    "ax.set_xlabel('Število pojavitev ključnih besed')\n",
    "ax.set_title('20 ključnih besed samo z ženskami')\n",
    "ax.set_yticks(ind, x)\n",
    "\n",
    "ax.legend(labels=['Moški', 'Ženske'])\n",
    "plt.show()"
   ]
  },
  {
   "cell_type": "code",
   "execution_count": 31,
   "id": "2e6e48c5",
   "metadata": {},
   "outputs": [
    {
     "data": {
      "image/png": "[encoded data removed]",
      "text/plain": [
       "<Figure size 432x288 with 1 Axes>"
      ]
     },
     "metadata": {
      "needs_background": "light"
     },
     "output_type": "display_data"
    }
   ],
   "source": [
    "x = omk[:20]\n",
    "y0 = [raz1[a][0]*raz1[a][2] for a in x]\n",
    "y1 = [raz1[a][1]*raz1[a][2] for a in x]\n",
    "y2 = [raz1[a][2] for a in x]\n",
    "\n",
    "ind = np.arange(len(x))\n",
    "width = 0.50\n",
    "fig = plt.figure()\n",
    "ax = fig.add_axes([0,0,1,1])\n",
    "ax.barh(ind, y0, width, color='b')\n",
    "ax.barh(ind, y1, width,left=y0, color='r')\n",
    "\n",
    "ax.set_xlabel('Število pojavitev ključnih besed')\n",
    "ax.set_title('20 ključnih besed samo z moškimi')\n",
    "ax.set_yticks(ind, x)\n",
    "\n",
    "ax.legend(labels=['Moški', 'Ženske'])\n",
    "plt.show()"
   ]
  },
  {
   "cell_type": "code",
   "execution_count": null,
   "id": "87276536",
   "metadata": {},
   "outputs": [],
   "source": []
  }
 ],
 "metadata": {
  "kernelspec": {
   "display_name": "Python 3 (ipykernel)",
   "language": "python",
   "name": "python3"
  },
  "language_info": {
   "codemirror_mode": {
    "name": "ipython",
    "version": 3
   },
   "file_extension": ".py",
   "mimetype": "text/x-python",
   "name": "python",
   "nbconvert_exporter": "python",
   "pygments_lexer": "ipython3",
   "version": "3.10.0"
  }
 },
 "nbformat": 4,
 "nbformat_minor": 5
}
