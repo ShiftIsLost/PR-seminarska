{
 "cells": [
  {
   "cell_type": "markdown",
   "id": "054adf8a",
   "metadata": {},
   "source": [
    "**Končno poročilo o opravljenem delu**"
   ]
  },
  {
   "cell_type": "markdown",
   "id": "201bb7e4",
   "metadata": {},
   "source": [
    "**1. Vprašanje:  Razlike glede na izobraženost po občinah**"
   ]
  },
  {
   "cell_type": "markdown",
   "id": "1647fcd7",
   "metadata": {},
   "source": [
    "//"
   ]
  },
  {
   "cell_type": "markdown",
   "id": "9dd5faec",
   "metadata": {},
   "source": [
    "**2. Vprašanje: Kakšna je razlika v akademskih dosežkih med spoloma?**"
   ]
  },
  {
   "cell_type": "markdown",
   "id": "46d41f58",
   "metadata": {},
   "source": [
    "//"
   ]
  },
  {
   "cell_type": "markdown",
   "id": "c7042f82",
   "metadata": {},
   "source": [
    "**3. Vprašanje: Razlike v temah glede na spol**"
   ]
  },
  {
   "attachments": {},
   "cell_type": "markdown",
   "id": "c1cd5941",
   "metadata": {},
   "source": [
    "Podatke smo dobili iz Open Science Slovenija: https://www.openscience.si/OpenData.aspx (različica 3 - 9.3.2021). Iz njih pridobimo imena avtorjev del. Tej podatki ne vsebujejo spola avtorja, zato se jih določi glede na njihovo ime s kombinacijo podatkov iz SURS;"
   ]
  },
  {
   "attachments": {
    "SURS%20match.png": {
     "image/png": "[encoded data removed]"
    }
   },
   "cell_type": "markdown",
   "id": "b4b0550b",
   "metadata": {},
   "source": [
    "![SURS%20match.png](attachment:SURS%20match.png)"
   ]
  },
  {
   "cell_type": "markdown",
   "id": "b6c55556",
   "metadata": {},
   "source": [
    "in uporabi se še knjižnica podatkov, ki so bili pridobljeni iz Facebook leaka, ki vsebuje imena in razmerje med spoloma, ki imajo to ime;"
   ]
  },
  {
   "attachments": {
    "FB%20match.png": {
     "image/png": "[encoded data removed]"
    }
   },
   "cell_type": "markdown",
   "id": "b354d7f8",
   "metadata": {},
   "source": [
    "![FB%20match.png](attachment:FB%20match.png)"
   ]
  }
 ],
 "metadata": {
  "kernelspec": {
   "display_name": "Python 3 (ipykernel)",
   "language": "python",
   "name": "python3"
  },
  "language_info": {
   "codemirror_mode": {
    "name": "ipython",
    "version": 3
   },
   "file_extension": ".py",
   "mimetype": "text/x-python",
   "name": "python",
   "nbconvert_exporter": "python",
   "pygments_lexer": "ipython3",
   "version": "3.9.7"
  },
  "latex_envs": {
   "LaTeX_envs_menu_present": true,
   "autoclose": false,
   "autocomplete": true,
   "bibliofile": "biblio.bib",
   "cite_by": "apalike",
   "current_citInitial": 1,
   "eqLabelWithNumbers": true,
   "eqNumInitial": 1,
   "hotkeys": {
    "equation": "Ctrl-E",
    "itemize": "Ctrl-I"
   },
   "labels_anchors": false,
   "latex_user_defs": false,
   "report_style_numbering": false,
   "user_envs_cfg": false
  },
  "nbTranslate": {
   "displayLangs": [
    "*"
   ],
   "hotkey": "alt-t",
   "langInMainMenu": true,
   "sourceLang": "en",
   "targetLang": "fr",
   "useGoogleTranslate": true
  }
 },
 "nbformat": 4,
 "nbformat_minor": 5
}
